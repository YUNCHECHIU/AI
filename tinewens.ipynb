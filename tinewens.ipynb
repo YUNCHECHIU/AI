{
 "cells": [
  {
   "cell_type": "code",
   "execution_count": 1,
   "metadata": {},
   "outputs": [
    {
     "name": "stderr",
     "output_type": "stream",
     "text": [
      "/opt/conda/lib/python3.6/site-packages/sklearn/cross_validation.py:41: DeprecationWarning: This module was deprecated in version 0.18 in favor of the model_selection module into which all the refactored classes and functions are moved. Also note that the interface of the new CV iterators are different from that of this module. This module will be removed in 0.20.\n",
      "  \"This module will be removed in 0.20.\", DeprecationWarning)\n"
     ]
    }
   ],
   "source": [
    "import warnings\n",
    "warnings.filterwarnings('ignore')\n",
    "\n",
    "import pandas as pd\n",
    "import numpy as np\n",
    "import re\n",
    "import matplotlib.pyplot as plt\n",
    "\n",
    "from sklearn.model_selection import train_test_split\n",
    "# from sklearn.model_selection import KFold\n",
    "from sklearn.model_selection import cross_val_score\n",
    "from sklearn.feature_selection import SelectKBest,f_classif\n",
    "from sklearn.cross_validation import KFold\n",
    "\n",
    "\n",
    "from sklearn.neighbors import KNeighborsClassifier\n",
    "from sklearn.tree import DecisionTreeClassifier\n",
    "from sklearn.ensemble import RandomForestClassifier\n",
    "from sklearn.ensemble import GradientBoostingClassifier\n",
    "from sklearn.naive_bayes import GaussianNB\n",
    "from sklearn.svm import SVC\n",
    "from xgboost import XGBClassifier\n",
    "\n"
   ]
  },
  {
   "cell_type": "code",
   "execution_count": 15,
   "metadata": {},
   "outputs": [
    {
     "data": {
      "image/png": "[encoded data removed]",
      "text/plain": [
       "<Figure size 432x288 with 1 Axes>"
      ]
     },
     "metadata": {},
     "output_type": "display_data"
    }
   ],
   "source": [
    "X=pd.read_csv('train.csv')\n",
    "X2=pd.read_csv('train.csv')\n",
    "test1 = pd.read_csv('test.csv')\n",
    "y=X.pop(\"Survived\")\n",
    "\n",
    "X[\"Embarked\"]=X[\"Embarked\"].fillna(\"S\")\n",
    "X.loc[X[\"Embarked\"]==\"S\",\"Embarked\"]=0\n",
    "X.loc[X[\"Embarked\"]==\"C\",\"Embarked\"]=1\n",
    "X.loc[X[\"Embarked\"]==\"Q\",\"Embarked\"]=2\n",
    "\n",
    "\n",
    "X1 = X.select_dtypes(include=[np.number])\n",
    "X1[\"Age\"]=X1[\"Age\"].fillna(X1[\"Age\"].median())\n",
    "X1=X1.drop(['PassengerId'],axis=1)\n",
    "\n",
    "categoricals = X.select_dtypes(exclude=[np.number])\n",
    "\n",
    "# print(categoricals.describe())\n",
    "\n",
    "# print (X.Embarked.value_counts(), \"\\n\")\n",
    "def encode1(x): return 1 if x == 'male' else 0\n",
    "X1['enc_Sex'] = X.Sex.apply(encode1)\n",
    "pd.set_option('display.max_rows', None)\n",
    "\n",
    "\n",
    "X1[\"Familysizes\"]=X[\"SibSp\"]+X[\"Parch\"]\n",
    "X1[\"NameLength\"]=X[\"Name\"].apply(lambda x: len(x))\n",
    "\n",
    "\n",
    "train_test_data = [X] # combining train and test dataset\n",
    "\n",
    "for dataset in train_test_data:\n",
    "    dataset['Title'] = dataset['Name'].str.extract(' ([A-Za-z]+)\\.', expand=False)\n",
    "    \n",
    "title_mapping = {\"Mr\": 0, \"Miss\": 1, \"Mrs\": 2, \n",
    "                 \"Master\": 3, \"Dr\": 3, \"Rev\": 3, \"Col\": 3, \"Major\": 3, \"Mlle\": 3,\"Countess\": 3,\n",
    "                 \"Ms\": 3, \"Lady\": 3, \"Jonkheer\": 3, \"Don\": 3, \"Dona\" : 3, \"Mme\": 3,\"Capt\": 3,\"Sir\": 3 }\n",
    "for dataset in train_test_data:\n",
    "    dataset['Title'] = dataset['Title'].map(title_mapping)\n",
    "\n",
    "\n",
    "X1[\"Title\"]=X[\"Title\"]\n",
    "\n",
    "\n",
    "# print(X.Cabin.value_counts())\n",
    "for dataset in train_test_data:\n",
    "    dataset['Cabin'] = dataset['Cabin'].str[:1]\n",
    "\n",
    "\n",
    "cabin_mapping = {\"A\": 0, \"B\": 0.4, \"C\": 0.8, \"D\": 1.2, \"E\": 1.6, \"F\": 2, \"G\": 2.4, \"T\": 2.8}\n",
    "for dataset in train_test_data:\n",
    "    dataset['Cabin'] = dataset['Cabin'].map(cabin_mapping)\n",
    "X1[\"Cabin\"]=X[\"Cabin\"]\n",
    "    \n",
    "X1[\"Cabin\"]=X1[\"Cabin\"].fillna(X1[\"Cabin\"].median())\n",
    "# print(X1)\n",
    "\n",
    "\n",
    "# print(X1.describe())\n",
    "\n",
    "\n",
    "\n",
    "# print(type(titles))\n",
    "# print(X1.head())\n",
    "# print(X1)\n",
    "# print(X1.describe())\n",
    "# print(len(X1[\"Title\"]))\n",
    "\n",
    "predictors = [\"Pclass\" , \"enc_Sex\" , \"Age\" , \"SibSp\" ,\"Parch\" , \"Fare\" ,\"Embarked\",\"Title\"\n",
    "              ,\"Familysizes\",\"NameLength\",\"Cabin\"]\n",
    "selector=SelectKBest(f_classif,k=5)\n",
    "selector.fit(X1[predictors],y)\n",
    "scores=-np.log10(selector.pvalues_)\n",
    "plt.bar(range(len(predictors)),scores)\n",
    "plt.xticks(range(len(predictors)),predictors,rotation=\"vertical\")\n",
    "plt.show()\n",
    "\n",
    "X1=X1.drop(['Familysizes','SibSp','Parch','Age','Embarked','NameLength'],axis=1)\n",
    "\n",
    "X_train,X_test,y_train,y_test=train_test_split(X1,y,random_state=42,test_size=0)\n",
    "\n"
   ]
  },
  {
   "cell_type": "code",
   "execution_count": 3,
   "metadata": {},
   "outputs": [
    {
     "name": "stdout",
     "output_type": "stream",
     "text": [
      "[ 0.79461279  0.83164983  0.82828283]\n",
      "0.818181818182\n"
     ]
    }
   ],
   "source": [
    "clf = XGBClassifier()\n",
    "# clf = GradientBoostingClassifier(n_estimators=100, learning_rate=0.1,\n",
    "#      max_depth=200, random_state=0)\n",
    "# clf = KNeighborsClassifier(n_neighbors = 13)\n",
    "# clf = GaussianNB()\n",
    "# clf = SVC()\n",
    "# clf = DecisionTreeClassifier()\n",
    "# clf = RandomForestClassifier(n_estimators=1000,  max_depth=1000,  \n",
    "# min_samples_split=4, min_samples_leaf=2)\n",
    "clf.fit(X_train, y_train)\n",
    "\n",
    "k_fold =KFold(X1.shape[0], n_folds=3, random_state=1)\n",
    "scoring = 'accuracy'\n",
    "score = cross_val_score(clf, X1, y, cv=k_fold, n_jobs=1, scoring=scoring)\n",
    "print(score)\n",
    "print (score.mean())\n",
    "\n",
    "\n",
    "\n"
   ]
  },
  {
   "cell_type": "code",
   "execution_count": 17,
   "metadata": {},
   "outputs": [
    {
     "ename": "KeyError",
     "evalue": "\"['Parch' 'Familysizes' 'Age' 'Embarked'] not in index\"",
     "output_type": "error",
     "traceback": [
      "\u001b[0;31m---------------------------------------------------------------------------\u001b[0m",
      "\u001b[0;31mKeyError\u001b[0m                                  Traceback (most recent call last)",
      "\u001b[0;32m<ipython-input-17-ee82fa8e953e>\u001b[0m in \u001b[0;36m<module>\u001b[0;34m()\u001b[0m\n\u001b[1;32m      6\u001b[0m     \u001b[0mfull_test_predictions\u001b[0m\u001b[0;34m=\u001b[0m\u001b[0;34m[\u001b[0m\u001b[0;34m]\u001b[0m\u001b[0;34m\u001b[0m\u001b[0m\n\u001b[1;32m      7\u001b[0m     \u001b[0;32mfor\u001b[0m \u001b[0malg\u001b[0m\u001b[0;34m,\u001b[0m \u001b[0mpredictors\u001b[0m \u001b[0;32min\u001b[0m \u001b[0malgorithms\u001b[0m\u001b[0;34m:\u001b[0m\u001b[0;34m\u001b[0m\u001b[0m\n\u001b[0;32m----> 8\u001b[0;31m         \u001b[0malg\u001b[0m\u001b[0;34m.\u001b[0m\u001b[0mfit\u001b[0m\u001b[0;34m(\u001b[0m\u001b[0mX1\u001b[0m\u001b[0;34m[\u001b[0m\u001b[0mpredictors\u001b[0m\u001b[0;34m]\u001b[0m\u001b[0;34m.\u001b[0m\u001b[0miloc\u001b[0m\u001b[0;34m[\u001b[0m\u001b[0mtrain\u001b[0m\u001b[0;34m,\u001b[0m\u001b[0;34m:\u001b[0m\u001b[0;34m]\u001b[0m\u001b[0;34m,\u001b[0m\u001b[0mtrain_target\u001b[0m\u001b[0;34m)\u001b[0m\u001b[0;34m\u001b[0m\u001b[0m\n\u001b[0m\u001b[1;32m      9\u001b[0m         \u001b[0mtest_predictions\u001b[0m\u001b[0;34m=\u001b[0m\u001b[0malg\u001b[0m\u001b[0;34m.\u001b[0m\u001b[0mpredict_proba\u001b[0m\u001b[0;34m(\u001b[0m\u001b[0mX1\u001b[0m\u001b[0;34m[\u001b[0m\u001b[0mpredictors\u001b[0m\u001b[0;34m]\u001b[0m\u001b[0;34m.\u001b[0m\u001b[0miloc\u001b[0m\u001b[0;34m[\u001b[0m\u001b[0mtest\u001b[0m\u001b[0;34m,\u001b[0m\u001b[0;34m:\u001b[0m\u001b[0;34m]\u001b[0m\u001b[0;34m.\u001b[0m\u001b[0mastype\u001b[0m\u001b[0;34m(\u001b[0m\u001b[0mfloat\u001b[0m\u001b[0;34m)\u001b[0m\u001b[0;34m)\u001b[0m\u001b[0;34m[\u001b[0m\u001b[0;34m:\u001b[0m\u001b[0;34m,\u001b[0m\u001b[0;36m1\u001b[0m\u001b[0;34m]\u001b[0m\u001b[0;34m\u001b[0m\u001b[0m\n\u001b[1;32m     10\u001b[0m         \u001b[0mfull_test_predictions\u001b[0m\u001b[0;34m.\u001b[0m\u001b[0mappend\u001b[0m\u001b[0;34m(\u001b[0m\u001b[0mtest_predictions\u001b[0m\u001b[0;34m)\u001b[0m\u001b[0;34m\u001b[0m\u001b[0m\n",
      "\u001b[0;32m/opt/conda/lib/python3.6/site-packages/pandas/core/frame.py\u001b[0m in \u001b[0;36m__getitem__\u001b[0;34m(self, key)\u001b[0m\n\u001b[1;32m   2680\u001b[0m         \u001b[0;32mif\u001b[0m \u001b[0misinstance\u001b[0m\u001b[0;34m(\u001b[0m\u001b[0mkey\u001b[0m\u001b[0;34m,\u001b[0m \u001b[0;34m(\u001b[0m\u001b[0mSeries\u001b[0m\u001b[0;34m,\u001b[0m \u001b[0mnp\u001b[0m\u001b[0;34m.\u001b[0m\u001b[0mndarray\u001b[0m\u001b[0;34m,\u001b[0m \u001b[0mIndex\u001b[0m\u001b[0;34m,\u001b[0m \u001b[0mlist\u001b[0m\u001b[0;34m)\u001b[0m\u001b[0;34m)\u001b[0m\u001b[0;34m:\u001b[0m\u001b[0;34m\u001b[0m\u001b[0m\n\u001b[1;32m   2681\u001b[0m             \u001b[0;31m# either boolean or fancy integer index\u001b[0m\u001b[0;34m\u001b[0m\u001b[0;34m\u001b[0m\u001b[0m\n\u001b[0;32m-> 2682\u001b[0;31m             \u001b[0;32mreturn\u001b[0m \u001b[0mself\u001b[0m\u001b[0;34m.\u001b[0m\u001b[0m_getitem_array\u001b[0m\u001b[0;34m(\u001b[0m\u001b[0mkey\u001b[0m\u001b[0;34m)\u001b[0m\u001b[0;34m\u001b[0m\u001b[0m\n\u001b[0m\u001b[1;32m   2683\u001b[0m         \u001b[0;32melif\u001b[0m \u001b[0misinstance\u001b[0m\u001b[0;34m(\u001b[0m\u001b[0mkey\u001b[0m\u001b[0;34m,\u001b[0m \u001b[0mDataFrame\u001b[0m\u001b[0;34m)\u001b[0m\u001b[0;34m:\u001b[0m\u001b[0;34m\u001b[0m\u001b[0m\n\u001b[1;32m   2684\u001b[0m             \u001b[0;32mreturn\u001b[0m \u001b[0mself\u001b[0m\u001b[0;34m.\u001b[0m\u001b[0m_getitem_frame\u001b[0m\u001b[0;34m(\u001b[0m\u001b[0mkey\u001b[0m\u001b[0;34m)\u001b[0m\u001b[0;34m\u001b[0m\u001b[0m\n",
      "\u001b[0;32m/opt/conda/lib/python3.6/site-packages/pandas/core/frame.py\u001b[0m in \u001b[0;36m_getitem_array\u001b[0;34m(self, key)\u001b[0m\n\u001b[1;32m   2724\u001b[0m             \u001b[0;32mreturn\u001b[0m \u001b[0mself\u001b[0m\u001b[0;34m.\u001b[0m\u001b[0m_take\u001b[0m\u001b[0;34m(\u001b[0m\u001b[0mindexer\u001b[0m\u001b[0;34m,\u001b[0m \u001b[0maxis\u001b[0m\u001b[0;34m=\u001b[0m\u001b[0;36m0\u001b[0m\u001b[0;34m)\u001b[0m\u001b[0;34m\u001b[0m\u001b[0m\n\u001b[1;32m   2725\u001b[0m         \u001b[0;32melse\u001b[0m\u001b[0;34m:\u001b[0m\u001b[0;34m\u001b[0m\u001b[0m\n\u001b[0;32m-> 2726\u001b[0;31m             \u001b[0mindexer\u001b[0m \u001b[0;34m=\u001b[0m \u001b[0mself\u001b[0m\u001b[0;34m.\u001b[0m\u001b[0mloc\u001b[0m\u001b[0;34m.\u001b[0m\u001b[0m_convert_to_indexer\u001b[0m\u001b[0;34m(\u001b[0m\u001b[0mkey\u001b[0m\u001b[0;34m,\u001b[0m \u001b[0maxis\u001b[0m\u001b[0;34m=\u001b[0m\u001b[0;36m1\u001b[0m\u001b[0;34m)\u001b[0m\u001b[0;34m\u001b[0m\u001b[0m\n\u001b[0m\u001b[1;32m   2727\u001b[0m             \u001b[0;32mreturn\u001b[0m \u001b[0mself\u001b[0m\u001b[0;34m.\u001b[0m\u001b[0m_take\u001b[0m\u001b[0;34m(\u001b[0m\u001b[0mindexer\u001b[0m\u001b[0;34m,\u001b[0m \u001b[0maxis\u001b[0m\u001b[0;34m=\u001b[0m\u001b[0;36m1\u001b[0m\u001b[0;34m)\u001b[0m\u001b[0;34m\u001b[0m\u001b[0m\n\u001b[1;32m   2728\u001b[0m \u001b[0;34m\u001b[0m\u001b[0m\n",
      "\u001b[0;32m/opt/conda/lib/python3.6/site-packages/pandas/core/indexing.py\u001b[0m in \u001b[0;36m_convert_to_indexer\u001b[0;34m(self, obj, axis, is_setter)\u001b[0m\n\u001b[1;32m   1325\u001b[0m                 \u001b[0;32mif\u001b[0m \u001b[0mmask\u001b[0m\u001b[0;34m.\u001b[0m\u001b[0many\u001b[0m\u001b[0;34m(\u001b[0m\u001b[0;34m)\u001b[0m\u001b[0;34m:\u001b[0m\u001b[0;34m\u001b[0m\u001b[0m\n\u001b[1;32m   1326\u001b[0m                     raise KeyError('{mask} not in index'\n\u001b[0;32m-> 1327\u001b[0;31m                                    .format(mask=objarr[mask]))\n\u001b[0m\u001b[1;32m   1328\u001b[0m \u001b[0;34m\u001b[0m\u001b[0m\n\u001b[1;32m   1329\u001b[0m                 \u001b[0;32mreturn\u001b[0m \u001b[0mcom\u001b[0m\u001b[0;34m.\u001b[0m\u001b[0m_values_from_object\u001b[0m\u001b[0;34m(\u001b[0m\u001b[0mindexer\u001b[0m\u001b[0;34m)\u001b[0m\u001b[0;34m\u001b[0m\u001b[0m\n",
      "\u001b[0;31mKeyError\u001b[0m: \"['Parch' 'Familysizes' 'Age' 'Embarked'] not in index\""
     ]
    }
   ],
   "source": [
    "algorithms=[[GradientBoostingClassifier(random_state=1, n_estimators=25, max_depth=3),\\\n",
    "            [\"Pclass\" , \"enc_Sex\" , \"Fare\" ,\"Title\"]],[DecisionTreeClassifier(random_state=1),\\\n",
    "            [\"Pclass\" , \"enc_Sex\"   ,  \"Title\"]]]\n",
    "kf=KFold(X1.shape[0], n_folds=3, random_state=1)\n",
    "predictions=[]\n",
    "for train,test in kf:\n",
    "    train_target=X2[\"Survived\"].iloc[train]\n",
    "    full_test_predictions=[]\n",
    "    for alg, predictors in algorithms:\n",
    "        alg.fit(X1[predictors].iloc[train,:],train_target)\n",
    "        test_predictions=alg.predict_proba(X1[predictors].iloc[test,:].astype(float))[:,1]\n",
    "        full_test_predictions.append(test_predictions)\n",
    "    test_predictions=(full_test_predictions[0]+full_test_predictions[1])/2\n",
    "    test_predictions[test_predictions<=0.5]=0\n",
    "    test_predictions[test_predictions>0.5]=1\n",
    "    predictions.append(test_predictions)\n",
    "predictions=np.concatenate(predictions,axis=0)    \n",
    "accuracy=sum(predictions[predictions==X2[\"Survived\"]])/len(predictions)\n",
    "print (accuracy)"
   ]
  },
  {
   "cell_type": "code",
   "execution_count": 4,
   "metadata": {},
   "outputs": [],
   "source": [
    "# clf = GradientBoostingClassifier(n_estimators=100, learning_rate=0.1,\n",
    "#      max_depth=200, random_state=0)\n",
    "# clf.fit(X_train, y_train)\n",
    "# k_fold = KFold(n_splits=3, shuffle=True, random_state=1)\n",
    "# scoring = 'accuracy'\n",
    "# score = cross_val_score(clf, X1, y, cv=k_fold, n_jobs=1, scoring=scoring)\n",
    "# print(score)\n",
    "# print (score.mean())"
   ]
  },
  {
   "cell_type": "code",
   "execution_count": 5,
   "metadata": {},
   "outputs": [],
   "source": [
    "# clf = KNeighborsClassifier(n_neighbors = 13)\n",
    "# clf.fit(X_train, y_train)\n",
    "# k_fold = KFold(n_splits=3, shuffle=True, random_state=1)\n",
    "# scoring = 'accuracy'\n",
    "# score = cross_val_score(clf, X1, y, cv=k_fold, n_jobs=1, scoring=scoring)\n",
    "# print(score)\n",
    "# print (score.mean())"
   ]
  },
  {
   "cell_type": "code",
   "execution_count": 6,
   "metadata": {},
   "outputs": [],
   "source": [
    "# clf = GaussianNB()\n",
    "# clf.fit(X_train, y_train)\n",
    "# k_fold = KFold(n_splits=3, shuffle=True, random_state=1)\n",
    "# scoring = 'accuracy'\n",
    "# score = cross_val_score(clf, X1, y, cv=k_fold, n_jobs=1, scoring=scoring)\n",
    "# print(score)\n",
    "# print (score.mean())"
   ]
  },
  {
   "cell_type": "code",
   "execution_count": 7,
   "metadata": {},
   "outputs": [],
   "source": [
    "# clf = DecisionTreeClassifier()\n",
    "# clf.fit(X_train, y_train)\n",
    "# k_fold = KFold(n_splits=3, shuffle=True, random_state=1)\n",
    "# scoring = 'accuracy'\n",
    "# score = cross_val_score(clf, X1, y, cv=k_fold, n_jobs=1, scoring=scoring)\n",
    "# print(score)\n",
    "# print (score.mean())"
   ]
  },
  {
   "cell_type": "code",
   "execution_count": 8,
   "metadata": {},
   "outputs": [],
   "source": [
    "# clf = RandomForestClassifier(n_estimators=1000,  max_depth=1000,  \n",
    "#     min_samples_split=4, min_samples_leaf=2)\n",
    "# clf.fit(X_train, y_train)\n",
    "# k_fold = KFold(n_splits=3, shuffle=True, random_state=1)\n",
    "# scoring = 'accuracy'\n",
    "# score = cross_val_score(clf, X1, y, cv=k_fold, n_jobs=1, scoring=scoring)\n",
    "# print(score)\n",
    "# print (score.mean())"
   ]
  },
  {
   "cell_type": "code",
   "execution_count": 9,
   "metadata": {},
   "outputs": [],
   "source": [
    "test1[\"Embarked\"]=test1[\"Embarked\"].fillna(\"S\")\n",
    "test1.loc[test1[\"Embarked\"]==\"S\",\"Embarked\"]=0\n",
    "test1.loc[test1[\"Embarked\"]==\"C\",\"Embarked\"]=1\n",
    "test1.loc[test1[\"Embarked\"]==\"Q\",\"Embarked\"]=2\n",
    "\n",
    "test = test1.select_dtypes(include=[np.number])\n",
    "test[\"Age\"]=test[\"Age\"].fillna(test[\"Age\"].median())\n",
    "test[\"Fare\"]=test[\"Fare\"].fillna(test[\"Fare\"].median())\n",
    "test['enc_Sex'] = test1.Sex.apply(encode1)\n",
    "test=test.drop(['PassengerId'],axis=1)\n",
    "\n",
    "test[\"Familysizes\"]=test1[\"SibSp\"]+test1[\"Parch\"]\n",
    "test[\"NameLength\"]=test1[\"Name\"].apply(lambda x: len(x))\n",
    "\n",
    "\n",
    "\n",
    "train_test_data1 = [test1] # combining train and test dataset\n",
    "\n",
    "for dataset in train_test_data1:\n",
    "    dataset['Title'] = dataset['Name'].str.extract(' ([A-Za-z]+)\\.', expand=False)\n",
    "    \n",
    "title_mapping = {\"Mr\": 0, \"Miss\": 1, \"Mrs\": 2, \n",
    "                 \"Master\": 3, \"Dr\": 3, \"Rev\": 3, \"Col\": 3, \"Major\": 3, \"Mlle\": 3,\"Countess\": 3,\n",
    "                 \"Ms\": 3, \"Lady\": 3, \"Jonkheer\": 3, \"Don\": 3, \"Dona\" : 3, \"Mme\": 3,\"Capt\": 3,\"Sir\": 3 }\n",
    "for dataset in train_test_data1:\n",
    "    dataset['Title'] = dataset['Title'].map(title_mapping)\n",
    "\n",
    "\n",
    "test[\"Title\"]=test1[\"Title\"]\n",
    "\n",
    "for dataset in train_test_data1:\n",
    "    dataset['Cabin'] = dataset['Cabin'].str[:1]\n",
    "\n",
    "\n",
    "cabin_mapping = {\"A\": 0, \"B\": 0.4, \"C\": 0.8, \"D\": 1.2, \"E\": 1.6, \"F\": 2, \"G\": 2.4, \"T\": 2.8}\n",
    "for dataset in train_test_data1:\n",
    "    dataset['Cabin'] = dataset['Cabin'].map(cabin_mapping)\n",
    "test[\"Cabin\"]=test1[\"Cabin\"]\n",
    "    \n",
    "test[\"Cabin\"]=test[\"Cabin\"].fillna(test[\"Cabin\"].median())\n",
    "# print(test)\n",
    "\n",
    "# print(test.describe())\n",
    "\n",
    "\n",
    "\n",
    "test=test.drop(['Familysizes','SibSp','Parch','Age','Embarked','NameLength'],axis=1)\n",
    "\n",
    "\n",
    "# print(test)\n",
    "# print(test.describe())\n",
    "# print(test)"
   ]
  },
  {
   "cell_type": "code",
   "execution_count": 10,
   "metadata": {},
   "outputs": [],
   "source": [
    "# clf = XGBClassifier()\n",
    "# clf.fit(X_train, y_train)\n",
    "prediction = clf.predict(test)\n",
    "\n",
    "\n",
    "submission = pd.DataFrame({\n",
    "        \"PassengerId\": test1[\"PassengerId\"],\n",
    "        \"Survived\": prediction\n",
    "    })\n",
    "\n",
    "submission.to_csv('submission.csv', index=False)"
   ]
  }
 ],
 "metadata": {
  "kernelspec": {
   "display_name": "Python 3",
   "language": "python",
   "name": "python3"
  },
  "language_info": {
   "codemirror_mode": {
    "name": "ipython",
    "version": 3
   },
   "file_extension": ".py",
   "mimetype": "text/x-python",
   "name": "python",
   "nbconvert_exporter": "python",
   "pygments_lexer": "ipython3",
   "version": "3.6.4"
  }
 },
 "nbformat": 4,
 "nbformat_minor": 2
}
