{
 "cells": [
  {
   "cell_type": "code",
   "execution_count": 1,
   "metadata": {},
   "outputs": [],
   "source": [
    "import pandas as pd \n",
    "from sklearn.metrics import accuracy_score\n",
    "\n",
    "\n",
    "from sklearn.model_selection import train_test_split\n",
    "from sklearn.utils import shuffle\n",
    "import numpy as np\n",
    "import os\n",
    "\n",
    "from tqdm import tqdm\n",
    "import matplotlib.pyplot as plt\n",
    "import tensorflow as tf"
   ]
  },
  {
   "cell_type": "code",
   "execution_count": null,
   "metadata": {},
   "outputs": [],
   "source": []
  },
  {
   "cell_type": "code",
   "execution_count": 2,
   "metadata": {},
   "outputs": [],
   "source": [
    "train=pd.read_csv(\"train.csv\")\n",
    "test = pd.read_csv('test.csv')\n",
    "y=train.pop(\"label\")\n",
    "\n",
    "from sklearn.model_selection import train_test_split\n",
    "X_train,X_test,y_train,y_test=train_test_split(train,y,test_size=0.33,random_state=1)\n",
    "\n",
    "\n"
   ]
  },
  {
   "cell_type": "code",
   "execution_count": 3,
   "metadata": {},
   "outputs": [
    {
     "name": "stdout",
     "output_type": "stream",
     "text": [
      "0.933477633478\n"
     ]
    }
   ],
   "source": [
    "from xgboost import XGBClassifier\n",
    "from sklearn.ensemble import GradientBoostingClassifier\n",
    "from sklearn import tree\n",
    "from sklearn.ensemble import RandomForestClassifier\n",
    "\n",
    "# k_range = range(1, 100)\n",
    "# k_scores = []\n",
    "# for k in k_range:\n",
    "# #     clf = GradientBoostingClassifier(n_estimators=20, learning_rate=1.0,\n",
    "# #     max_depth=k, random_state=0)\n",
    "# #     clf=RandomForestClassifier(random_state=1, n_estimators=k, min_samples_split=2,min_samples_leaf=1)\n",
    "# #     clf.fit(X_train,y_train)\n",
    "#     clf=tree.DecisionTreeClassifier(max_depth=k,random_state=42)\n",
    "#     clf.fit(X_train,y_train)\n",
    "#     predictions=clf.predict(X_test)\n",
    "#     k_scores.append(accuracy_score(y_test,predictions))\n",
    "    \n",
    "# plt.plot(k_range, k_scores)\n",
    "# plt.xlabel('Value of K for clf')\n",
    "# plt.ylabel('Cross-Validated Accuracy')\n",
    "# plt.show()\n",
    "\n",
    "\n",
    "clf = XGBClassifier()\n",
    "# clf=tree.DecisionTreeClassifier(max_depth=50,random_state=42)\n",
    "# clf=RandomForestClassifier(random_state=1, n_estimators=100, min_samples_split=2,min_samples_leaf=1)\n",
    "# clf = GradientBoostingClassifier(n_estimators=100, learning_rate=1.0,\n",
    "#      max_depth=20, random_state=0)\n",
    "clf.fit(X_train,y_train)\n",
    "\n",
    "predictions=clf.predict(X_test)\n",
    "print (accuracy_score(y_test,predictions))\n",
    "\n",
    "# pre = clf.predict(test)\n",
    "\n",
    "# submission = pd.DataFrame({\n",
    "#         \"ImageId\": (test.index+1),\n",
    "#         \"Label\": pre\n",
    "#     })\n",
    "\n",
    "# submission.to_csv('submission.csv', index=False)\n"
   ]
  }
 ],
 "metadata": {
  "kernelspec": {
   "display_name": "Python 3",
   "language": "python",
   "name": "python3"
  },
  "language_info": {
   "codemirror_mode": {
    "name": "ipython",
    "version": 3
   },
   "file_extension": ".py",
   "mimetype": "text/x-python",
   "name": "python",
   "nbconvert_exporter": "python",
   "pygments_lexer": "ipython3",
   "version": "3.6.4"
  }
 },
 "nbformat": 4,
 "nbformat_minor": 2
}
