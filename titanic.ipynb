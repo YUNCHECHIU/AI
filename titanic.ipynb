{
 "cells": [
  {
   "cell_type": "code",
   "execution_count": 2,
   "metadata": {},
   "outputs": [
    {
     "name": "stdout",
     "output_type": "stream",
     "text": [
      "       PassengerId    Survived      Pclass         Age       SibSp  \\\n",
      "count   891.000000  891.000000  891.000000  714.000000  891.000000   \n",
      "mean    446.000000    0.383838    2.308642   29.699118    0.523008   \n",
      "std     257.353842    0.486592    0.836071   14.526497    1.102743   \n",
      "min       1.000000    0.000000    1.000000    0.420000    0.000000   \n",
      "25%     223.500000    0.000000    2.000000   20.125000    0.000000   \n",
      "50%     446.000000    0.000000    3.000000   28.000000    0.000000   \n",
      "75%     668.500000    1.000000    3.000000   38.000000    1.000000   \n",
      "max     891.000000    1.000000    3.000000   80.000000    8.000000   \n",
      "\n",
      "            Parch        Fare  \n",
      "count  891.000000  891.000000  \n",
      "mean     0.381594   32.204208  \n",
      "std      0.806057   49.693429  \n",
      "min      0.000000    0.000000  \n",
      "25%      0.000000    7.910400  \n",
      "50%      0.000000   14.454200  \n",
      "75%      0.000000   31.000000  \n",
      "max      6.000000  512.329200  \n"
     ]
    }
   ],
   "source": [
    "import pandas\n",
    "titanic=pandas.read_csv(\"train.csv\")\n",
    "titanic\n",
    "titanic.head()\n",
    "print(titanic.describe())"
   ]
  },
  {
   "cell_type": "code",
   "execution_count": 3,
   "metadata": {},
   "outputs": [
    {
     "name": "stdout",
     "output_type": "stream",
     "text": [
      "       PassengerId    Survived      Pclass         Age       SibSp  \\\n",
      "count   891.000000  891.000000  891.000000  891.000000  891.000000   \n",
      "mean    446.000000    0.383838    2.308642   29.361582    0.523008   \n",
      "std     257.353842    0.486592    0.836071   13.019697    1.102743   \n",
      "min       1.000000    0.000000    1.000000    0.420000    0.000000   \n",
      "25%     223.500000    0.000000    2.000000   22.000000    0.000000   \n",
      "50%     446.000000    0.000000    3.000000   28.000000    0.000000   \n",
      "75%     668.500000    1.000000    3.000000   35.000000    1.000000   \n",
      "max     891.000000    1.000000    3.000000   80.000000    8.000000   \n",
      "\n",
      "            Parch        Fare  \n",
      "count  891.000000  891.000000  \n",
      "mean     0.381594   32.204208  \n",
      "std      0.806057   49.693429  \n",
      "min      0.000000    0.000000  \n",
      "25%      0.000000    7.910400  \n",
      "50%      0.000000   14.454200  \n",
      "75%      0.000000   31.000000  \n",
      "max      6.000000  512.329200  \n"
     ]
    }
   ],
   "source": [
    "titanic[\"Age\"]=titanic[\"Age\"].fillna(titanic[\"Age\"].median())\n",
    "print(titanic.describe())"
   ]
  },
  {
   "cell_type": "code",
   "execution_count": 4,
   "metadata": {},
   "outputs": [
    {
     "name": "stdout",
     "output_type": "stream",
     "text": [
      "['male' 'female']\n"
     ]
    }
   ],
   "source": [
    "print(titanic[\"Sex\"].unique())\n",
    "titanic.loc[titanic[\"Sex\"]==\"male\",\"Sex\"]=0\n",
    "titanic.loc[titanic[\"Sex\"]==\"female\",\"Sex\"]=1"
   ]
  },
  {
   "cell_type": "code",
   "execution_count": 5,
   "metadata": {},
   "outputs": [
    {
     "name": "stdout",
     "output_type": "stream",
     "text": [
      "['S' 'C' 'Q' nan]\n"
     ]
    }
   ],
   "source": [
    "print(titanic[\"Embarked\"].unique())\n",
    "titanic[\"Embarked\"]=titanic[\"Embarked\"].fillna(\"S\")\n",
    "titanic.loc[titanic[\"Embarked\"]==\"S\",\"Embarked\"]=0\n",
    "titanic.loc[titanic[\"Embarked\"]==\"C\",\"Embarked\"]=1\n",
    "titanic.loc[titanic[\"Embarked\"]==\"Q\",\"Embarked\"]=2"
   ]
  },
  {
   "cell_type": "code",
   "execution_count": 6,
   "metadata": {},
   "outputs": [
    {
     "name": "stdout",
     "output_type": "stream",
     "text": [
      "count    891.000000\n",
      "mean       0.361392\n",
      "std        0.635673\n",
      "min        0.000000\n",
      "25%        0.000000\n",
      "50%        0.000000\n",
      "75%        1.000000\n",
      "max        2.000000\n",
      "Name: Embarked, dtype: float64\n"
     ]
    }
   ],
   "source": [
    "print(titanic[\"Embarked\"].describe())"
   ]
  },
  {
   "cell_type": "code",
   "execution_count": 7,
   "metadata": {},
   "outputs": [
    {
     "name": "stderr",
     "output_type": "stream",
     "text": [
      "/opt/conda/lib/python3.6/site-packages/sklearn/cross_validation.py:41: DeprecationWarning: This module was deprecated in version 0.18 in favor of the model_selection module into which all the refactored classes and functions are moved. Also note that the interface of the new CV iterators are different from that of this module. This module will be removed in 0.20.\n",
      "  \"This module will be removed in 0.20.\", DeprecationWarning)\n"
     ]
    }
   ],
   "source": [
    "from sklearn.linear_model import LinearRegression\n",
    "from sklearn.cross_validation import KFold\n",
    "\n",
    "predictors = [\"Pclass\" , \"Sex\" , \"Age\" , \"SibSp\" ,\"Parch\" , \"Fare\" ,\"Embarked\"]\n",
    "alg=LinearRegression()\n",
    "kf=KFold(titanic.shape[0], n_folds=3, random_state=1)\n",
    "predictions=[]\n",
    "for train,test in kf:\n",
    "    train_predictors=(titanic[predictors].iloc[train,:])\n",
    "    train_targets=titanic[\"Survived\"].iloc[train]\n",
    "    alg.fit(train_predictors,train_targets)\n",
    "    test_predictions=alg.predict(titanic[predictors].iloc[test,:])\n",
    "    predictions.append(test_predictions)\n",
    "    \n",
    "    "
   ]
  },
  {
   "cell_type": "code",
   "execution_count": 8,
   "metadata": {},
   "outputs": [
    {
     "name": "stdout",
     "output_type": "stream",
     "text": [
      "0.261503928171\n"
     ]
    }
   ],
   "source": [
    "import numpy as np\n",
    "predictions=np.concatenate(predictions,axis=0)\n",
    "predictions[predictions>0.5]=1\n",
    "predictions[predictions<=0.5]=0\n",
    "accuracy=sum(predictions[predictions==titanic[\"Survived\"]])/len(predictions)\n",
    "print (accuracy)"
   ]
  },
  {
   "cell_type": "code",
   "execution_count": 9,
   "metadata": {},
   "outputs": [
    {
     "name": "stdout",
     "output_type": "stream",
     "text": [
      "0.787878787879\n"
     ]
    }
   ],
   "source": [
    "from sklearn import cross_validation\n",
    "from sklearn.linear_model import LogisticRegression\n",
    "alg=LogisticRegression(random_state=1)\n",
    "scores=cross_validation.cross_val_score(alg,titanic[predictors],titanic[\"Survived\"],cv=3)\n",
    "print (scores.mean())"
   ]
  },
  {
   "cell_type": "code",
   "execution_count": 10,
   "metadata": {},
   "outputs": [
    {
     "name": "stdout",
     "output_type": "stream",
     "text": [
      "0.785634118967\n"
     ]
    }
   ],
   "source": [
    "from sklearn import cross_validation\n",
    "from sklearn.ensemble import RandomForestClassifier\n",
    "\n",
    "predictors = [\"Pclass\" , \"Sex\" , \"Age\" , \"SibSp\" ,\"Parch\" , \"Fare\" ,\"Embarked\"]\n",
    "alg=RandomForestClassifier(random_state=1, n_estimators=10, min_samples_split=2,min_samples_leaf=1)\n",
    "kf=cross_validation.KFold(titanic.shape[0], n_folds=3, random_state=1)\n",
    "scores=cross_validation.cross_val_score(alg,titanic[predictors],titanic[\"Survived\"],cv=kf)\n",
    "print (scores.mean())\n"
   ]
  },
  {
   "cell_type": "code",
   "execution_count": 11,
   "metadata": {},
   "outputs": [
    {
     "name": "stdout",
     "output_type": "stream",
     "text": [
      "0.785634118967\n"
     ]
    }
   ],
   "source": [
    "from sklearn import cross_validation\n",
    "from sklearn.ensemble import RandomForestClassifier\n",
    "\n",
    "predictors = [\"Pclass\" , \"Sex\" , \"Age\" , \"SibSp\" ,\"Parch\" , \"Fare\" ,\"Embarked\"]\n",
    "alg=RandomForestClassifier(random_state=1, n_estimators=10, min_samples_split=2,min_samples_leaf=1)\n",
    "kf=cross_validation.KFold(titanic.shape[0], n_folds=3, random_state=1)\n",
    "scores=cross_validation.cross_val_score(alg,titanic[predictors],titanic[\"Survived\"],cv=kf)\n",
    "print (scores.mean())"
   ]
  },
  {
   "cell_type": "code",
   "execution_count": 12,
   "metadata": {},
   "outputs": [
    {
     "name": "stdout",
     "output_type": "stream",
     "text": [
      "0.81593714927\n"
     ]
    }
   ],
   "source": [
    "from sklearn import cross_validation\n",
    "from sklearn.ensemble import RandomForestClassifier\n",
    "\n",
    "predictors = [\"Pclass\" , \"Sex\" , \"Age\" , \"SibSp\" ,\"Parch\" , \"Fare\" ,\"Embarked\"]\n",
    "alg=RandomForestClassifier(random_state=1, n_estimators=50, min_samples_split=4,min_samples_leaf=2)\n",
    "kf=cross_validation.KFold(titanic.shape[0], n_folds=3, random_state=1)\n",
    "scores=cross_validation.cross_val_score(alg,titanic[predictors],titanic[\"Survived\"],cv=kf)\n",
    "print (scores.mean())\n"
   ]
  },
  {
   "cell_type": "code",
   "execution_count": 13,
   "metadata": {},
   "outputs": [
    {
     "name": "stdout",
     "output_type": "stream",
     "text": [
      "Mr          517\n",
      "Miss        182\n",
      "Mrs         125\n",
      "Master       40\n",
      "Dr            7\n",
      "Rev           6\n",
      "Mlle          2\n",
      "Major         2\n",
      "Col           2\n",
      "Jonkheer      1\n",
      "Capt          1\n",
      "Lady          1\n",
      "Mme           1\n",
      "Don           1\n",
      "Countess      1\n",
      "Ms            1\n",
      "Sir           1\n",
      "Name: Name, dtype: int64\n",
      "1     517\n",
      "2     182\n",
      "3     125\n",
      "4      40\n",
      "5       7\n",
      "6       6\n",
      "8       2\n",
      "7       2\n",
      "9       2\n",
      "16      1\n",
      "10      1\n",
      "11      1\n",
      "12      1\n",
      "13      1\n",
      "14      1\n",
      "15      1\n",
      "17      1\n",
      "Name: Name, dtype: int64\n"
     ]
    }
   ],
   "source": [
    "titanic[\"Familysizes\"]=titanic[\"SibSp\"]+titanic[\"Parch\"]\n",
    "titanic[\"NameLength\"]=titanic[\"Name\"].apply(lambda x: len(x))\n",
    "import re\n",
    "\n",
    "def get_title(name):\n",
    "    title_search=re.search('([A-Za-z]+)\\.',name)\n",
    "    if title_search:\n",
    "        return title_search.group(1)\n",
    "    return \"\"\n",
    "titles=titanic[\"Name\"].apply(get_title)\n",
    "print(pandas.value_counts(titles))\n",
    "\n",
    "title_mapping={\"Mr\" : 1, \"Miss\" : 2, \"Mrs\":3,\"Master\":4,\"Dr\":5,\"Rev\":6,\"Mlle\":7,\"Major\":8,\\\n",
    "              \"Col\":9,\"Sir\":10,\"Jonkheer\":11,\"Countess\":12,\"Capt\":13,\"Ms\":14,\"Mme\":15,\"Lady\"\\\n",
    "               :16,\"Don\":17}\n",
    "for k,v in title_mapping.items():\n",
    "    titles[titles==k]=v\n",
    "\n",
    "print(pandas.value_counts(titles))\n",
    "titanic[\"Title\"]=titles\n",
    "\n"
   ]
  },
  {
   "cell_type": "code",
   "execution_count": 14,
   "metadata": {},
   "outputs": [
    {
     "data": {
      "image/png": "[encoded data removed]",
      "text/plain": [
       "<Figure size 432x288 with 1 Axes>"
      ]
     },
     "metadata": {},
     "output_type": "display_data"
    },
    {
     "name": "stdout",
     "output_type": "stream",
     "text": [
      "0.812570145903\n"
     ]
    }
   ],
   "source": [
    "import numpy as np\n",
    "from sklearn.feature_selection import SelectKBest,f_classif\n",
    "import matplotlib.pyplot as plt\n",
    "predictors = [\"Pclass\" , \"Sex\" , \"Age\" , \"SibSp\" ,\"Parch\" , \"Fare\" ,\"Embarked\",\"Familysizes\",\"Title\",\"NameLength\"]\n",
    "selector=SelectKBest(f_classif,k=5)\n",
    "selector.fit(titanic[predictors],titanic[\"Survived\"])\n",
    "scores=-np.log10(selector.pvalues_)\n",
    "plt.bar(range(len(predictors)),scores)\n",
    "plt.xticks(range(len(predictors)),predictors,rotation=\"vertical\")\n",
    "plt.show()\n",
    "\n",
    "predictors=[\"Pclass\" , \"Sex\" , \"Fare\" ,\"Title\"]\n",
    "alg=RandomForestClassifier(random_state=1, n_estimators=50, min_samples_split=4,min_samples_leaf=2)\n",
    "kf=cross_validation.KFold(titanic.shape[0], n_folds=3, random_state=1)\n",
    "scores=cross_validation.cross_val_score(alg,titanic[predictors],titanic[\"Survived\"],cv=kf)\n",
    "print (scores.mean())"
   ]
  },
  {
   "cell_type": "code",
   "execution_count": 15,
   "metadata": {},
   "outputs": [
    {
     "name": "stdout",
     "output_type": "stream",
     "text": [
      "0.271604938272\n"
     ]
    }
   ],
   "source": [
    "from sklearn.ensemble import GradientBoostingClassifier\n",
    "import numpy as np\n",
    "algorithms=[[GradientBoostingClassifier(random_state=1, n_estimators=25, max_depth=3),\\\n",
    "            [\"Pclass\" , \"Sex\" , \"Fare\" ,\"Title\"]],[LogisticRegression(random_state=1),\\\n",
    "            [\"Pclass\" , \"Sex\"  ,\"Parch\" , \"Familysizes\" ,\"Title\",\"Age\",\"Embarked\"]]]\n",
    "kf=KFold(titanic.shape[0], n_folds=3, random_state=1)\n",
    "predictions=[]\n",
    "for train,test in kf:\n",
    "    train_target=titanic[\"Survived\"].iloc[train]\n",
    "    full_test_predictions=[]\n",
    "    for alg, predictors in algorithms:\n",
    "        alg.fit(titanic[predictors].iloc[train,:],train_target)\n",
    "        test_predictions=alg.predict_proba(titanic[predictors].iloc[test,:].astype(float))[:,1]\n",
    "        full_test_predictions.append(test_predictions)\n",
    "    test_predictions=(full_test_predictions[0]+full_test_predictions[1])/2\n",
    "    test_predictions[test_predictions<=0.5]=0\n",
    "    test_predictions[test_predictions>0.5]=1\n",
    "    predictions.append(test_predictions)\n",
    "predictions=np.concatenate(predictions,axis=0)    \n",
    "accuracy=sum(predictions[predictions==titanic[\"Survived\"]])/len(predictions)\n",
    "print (accuracy)"
   ]
  },
  {
   "cell_type": "code",
   "execution_count": null,
   "metadata": {},
   "outputs": [],
   "source": []
  }
 ],
 "metadata": {
  "kernelspec": {
   "display_name": "Python 3",
   "language": "python",
   "name": "python3"
  },
  "language_info": {
   "codemirror_mode": {
    "name": "ipython",
    "version": 3
   },
   "file_extension": ".py",
   "mimetype": "text/x-python",
   "name": "python",
   "nbconvert_exporter": "python",
   "pygments_lexer": "ipython3",
   "version": "3.6.4"
  }
 },
 "nbformat": 4,
 "nbformat_minor": 2
}
